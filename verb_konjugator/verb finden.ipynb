{
 "cells": [
  {
   "cell_type": "code",
   "execution_count": 1,
   "metadata": {},
   "outputs": [],
   "source": [
    "import pandas as pd\n",
    "from bs4 import BeautifulSoup\n",
    "import requests"
   ]
  },
  {
   "cell_type": "code",
   "execution_count": 2,
   "metadata": {},
   "outputs": [],
   "source": [
    "root_url = 'https://cooljugator.com'\n",
    "home_url = '/de/list/all'\n",
    "r = requests.get(root_url + home_url)\n",
    "soup = BeautifulSoup(r.text, 'html.parser')"
   ]
  },
  {
   "cell_type": "code",
   "execution_count": 3,
   "metadata": {},
   "outputs": [],
   "source": [
    "def create_verb_rec():\n",
    "    pronouns = ['ich', 'du', 'er', 'wir', 'ihr', 'Sie']\n",
    "    verb_rec = dict.fromkeys(['verb', 'translation', 'present', 'perfect', 'future'])\n",
    "    for case in ['present', 'perfect', 'future']:\n",
    "        verb_rec[case] = dict.fromkeys(pronouns)\n",
    "    return verb_rec"
   ]
  },
  {
   "cell_type": "code",
   "execution_count": 4,
   "metadata": {},
   "outputs": [],
   "source": [
    "pronouns = ['ich', 'du', 'er', 'wir', 'ihr', 'Sie']\n",
    "\n",
    "verb_collection = []\n",
    "\n",
    "for verb_link in soup.find_all('li', attrs={'class': 'item'}):\n",
    "    verb_rec = create_verb_rec()\n",
    "    verb, translation = verb_link.text.split(' - ')\n",
    "    verb_rec['verb'] = verb\n",
    "    verb_rec['translation'] = translation\n",
    "    url_suffix = verb_link.find('a', href=True)['href']\n",
    "    verb_url = root_url + url_suffix\n",
    "    verb_soup = BeautifulSoup(requests.get(verb_url).text, 'html.parser')\n",
    "    for case in ['present', 'perfect', 'future']:\n",
    "        for i, pronoun in enumerate(pronouns):\n",
    "            case_class = '{}{}'.format(case, i+1) \n",
    "            conjugated_verb = verb_soup.find('div', {\"id\": case_class}).find('div', {'class': 'meta-form'}).text\n",
    "            verb_rec[case][pronoun] = conjugated_verb\n",
    "    verb_collection.append(verb_rec)"
   ]
  },
  {
   "cell_type": "code",
   "execution_count": 5,
   "metadata": {},
   "outputs": [],
   "source": [
    "len(verb_collection)"
   ]
  },
  {
   "cell_type": "code",
   "execution_count": 6,
   "metadata": {},
   "outputs": [],
   "source": [
    "x = []\n",
    "for vc in verb_collection:\n",
    "    d = {}\n",
    "    for k, v in vc.items():\n",
    "        if isinstance(v, str):\n",
    "            d[k] = v\n",
    "        else:\n",
    "            for ki, vi in v.items():\n",
    "                d[(k, ki)] = vi\n",
    "    x.append(d)"
   ]
  },
  {
   "cell_type": "code",
   "execution_count": 7,
   "metadata": {},
   "outputs": [],
   "source": [
    "#using xlsx because it preserves utf8 better than csvs (and we have a lot of umlauts here!)\n",
    "writer = pd.ExcelWriter('/Users/rob/Documents/verbs.xlsx', options={'encoding':'utf-8'})\n",
    "pd.DataFrame(x).to_excel(writer, 'Sheet1')\n",
    "writer.save()"
   ]
  },
  {
   "cell_type": "code",
   "execution_count": null,
   "metadata": {},
   "outputs": [],
   "source": []
  }
 ],
 "metadata": {
  "kernelspec": {
   "display_name": "Python 3",
   "language": "python",
   "name": "python3"
  },
  "language_info": {
   "codemirror_mode": {
    "name": "ipython",
    "version": 3
   },
   "file_extension": ".py",
   "mimetype": "text/x-python",
   "name": "python",
   "nbconvert_exporter": "python",
   "pygments_lexer": "ipython3",
   "version": "3.7.3"
  },
  "toc": {
   "nav_menu": {},
   "number_sections": true,
   "sideBar": true,
   "skip_h1_title": false,
   "title_cell": "Table of Contents",
   "title_sidebar": "Contents",
   "toc_cell": false,
   "toc_position": {},
   "toc_section_display": true,
   "toc_window_display": false
  }
 },
 "nbformat": 4,
 "nbformat_minor": 2
}
